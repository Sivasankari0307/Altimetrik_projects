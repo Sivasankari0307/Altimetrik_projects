{
  "nbformat": 4,
  "nbformat_minor": 0,
  "metadata": {
    "colab": {
      "provenance": []
    },
    "kernelspec": {
      "name": "python3",
      "display_name": "Python 3"
    },
    "language_info": {
      "name": "python"
    }
  },
  "cells": [
    {
      "cell_type": "code",
      "source": [
        "# Numpy--numerical python"
      ],
      "metadata": {
        "id": "aRt7NFkqLpYX"
      },
      "execution_count": null,
      "outputs": []
    },
    {
      "cell_type": "code",
      "source": [
        "import numpy as np"
      ],
      "metadata": {
        "id": "PrMIQQNsLscR"
      },
      "execution_count": null,
      "outputs": []
    },
    {
      "cell_type": "code",
      "source": [
        "# creating an array"
      ],
      "metadata": {
        "id": "oVPJCTg6MMm5"
      },
      "execution_count": null,
      "outputs": []
    },
    {
      "cell_type": "code",
      "source": [
        "# one dimensional array\n",
        "a = np.array([3,4,5])\n",
        "print(\"1D array:\",a)\n",
        "print(\"shape of 1D array:\", a.shape)\n",
        "print(\"No_of dimension of 1D array:\", a.ndim)"
      ],
      "metadata": {
        "colab": {
          "base_uri": "https://localhost:8080/"
        },
        "id": "nbQx8YDwNV7L",
        "outputId": "a2e8e5ac-9b14-4141-f437-056eb5863cdf"
      },
      "execution_count": null,
      "outputs": [
        {
          "output_type": "stream",
          "name": "stdout",
          "text": [
            "1D array: [3 4 5]\n",
            "shape of 1D array: (3,)\n",
            "No_of dimension of 1D array: 1\n"
          ]
        }
      ]
    },
    {
      "cell_type": "code",
      "source": [
        "# two dimensional array\n",
        "b = np.array([[2,3],[4,5]])\n",
        "print(\"2D array:\",b)\n",
        "print(\"shape of 2D array:\", b.shape)\n",
        "print(\"No_of dimension of 2D array:\", b.ndim)"
      ],
      "metadata": {
        "colab": {
          "base_uri": "https://localhost:8080/"
        },
        "id": "W7s1_CmuNe2f",
        "outputId": "55fc5150-689a-401f-b4e1-a9071ded51fc"
      },
      "execution_count": null,
      "outputs": [
        {
          "output_type": "stream",
          "name": "stdout",
          "text": [
            "2D array: [[2 3]\n",
            " [4 5]]\n",
            "shape of 2D array: (2, 2)\n",
            "No_of dimension of 2D array: 2\n"
          ]
        }
      ]
    },
    {
      "cell_type": "code",
      "source": [
        "# Three dimensional array\n",
        "c = np.array([[[2,3],[4,5]],\n",
        "              [[6,7],[8,9]]])\n",
        "print(\"3D array:\",c)\n",
        "print(\"shape of 3D array:\", c.shape)\n",
        "print(\"No_of dimension of 3D array:\", c.ndim)"
      ],
      "metadata": {
        "colab": {
          "base_uri": "https://localhost:8080/"
        },
        "id": "SrT4QtHYOnat",
        "outputId": "98c42230-c30d-443f-9ad3-71bb78cb5e5b"
      },
      "execution_count": null,
      "outputs": [
        {
          "output_type": "stream",
          "name": "stdout",
          "text": [
            "3D array: [[[2 3]\n",
            "  [4 5]]\n",
            "\n",
            " [[6 7]\n",
            "  [8 9]]]\n",
            "shape of 3D array: (2, 2, 2)\n",
            "No_of dimension of 3D array: 3\n"
          ]
        }
      ]
    },
    {
      "cell_type": "code",
      "source": [
        "sales_data = np.array(\n",
        "   [ [12,34,65,87],\n",
        "    [45,76,11,78],\n",
        "    [12,98,20,45],\n",
        "    [33,61,33,12],\n",
        "    [56,63,98,12],\n",
        "    [10,20,30,40],\n",
        "    [50,60,70,80] ])"
      ],
      "metadata": {
        "id": "aQ8TDjWcPc5Y"
      },
      "execution_count": null,
      "outputs": []
    },
    {
      "cell_type": "code",
      "source": [
        "# Indexing the row\n",
        "sales_data[4]"
      ],
      "metadata": {
        "colab": {
          "base_uri": "https://localhost:8080/"
        },
        "id": "srqxjelLQvh-",
        "outputId": "6ff1fbd7-ed51-4886-95f9-2798447b4982"
      },
      "execution_count": null,
      "outputs": [
        {
          "output_type": "execute_result",
          "data": {
            "text/plain": [
              "array([56, 63, 98, 12])"
            ]
          },
          "metadata": {},
          "execution_count": 25
        }
      ]
    },
    {
      "cell_type": "code",
      "source": [
        "# Indexing the specific element using indexing\n",
        "sales_data[3][2]"
      ],
      "metadata": {
        "colab": {
          "base_uri": "https://localhost:8080/"
        },
        "id": "zke9aDPeQ8N8",
        "outputId": "65b2467a-53f8-44a9-9117-261f824cc49f"
      },
      "execution_count": null,
      "outputs": [
        {
          "output_type": "execute_result",
          "data": {
            "text/plain": [
              "np.int64(33)"
            ]
          },
          "metadata": {},
          "execution_count": 27
        }
      ]
    },
    {
      "cell_type": "code",
      "source": [
        "# Slicing\n",
        "sales_data[:1]"
      ],
      "metadata": {
        "colab": {
          "base_uri": "https://localhost:8080/"
        },
        "id": "F4xU4iS-RDm2",
        "outputId": "18268d5b-f3cf-45a9-c6a6-7d8bfbbcc5fe"
      },
      "execution_count": null,
      "outputs": [
        {
          "output_type": "execute_result",
          "data": {
            "text/plain": [
              "array([[12, 34, 65, 87]])"
            ]
          },
          "metadata": {},
          "execution_count": 30
        }
      ]
    },
    {
      "cell_type": "code",
      "source": [
        "# Slicing specific elements\n",
        "sales_data[5:,1]"
      ],
      "metadata": {
        "colab": {
          "base_uri": "https://localhost:8080/"
        },
        "id": "6k1qGvXxRQ5o",
        "outputId": "08841271-3ec2-4bb5-8fa1-43dceb4a6bab"
      },
      "execution_count": null,
      "outputs": [
        {
          "output_type": "execute_result",
          "data": {
            "text/plain": [
              "array([20, 60])"
            ]
          },
          "metadata": {},
          "execution_count": 34
        }
      ]
    },
    {
      "cell_type": "code",
      "source": [
        "# using some conditions\n",
        "sales_data[sales_data > 50]"
      ],
      "metadata": {
        "colab": {
          "base_uri": "https://localhost:8080/"
        },
        "id": "scqxzG2HRrdO",
        "outputId": "bd344403-50c1-4689-9884-0804bdee642e"
      },
      "execution_count": null,
      "outputs": [
        {
          "output_type": "execute_result",
          "data": {
            "text/plain": [
              "array([65, 87, 76, 78, 98, 61, 56, 63, 98, 60, 70, 80])"
            ]
          },
          "metadata": {},
          "execution_count": 36
        }
      ]
    },
    {
      "cell_type": "code",
      "source": [
        "# extracting\n",
        "sales_data[5:,3:]"
      ],
      "metadata": {
        "colab": {
          "base_uri": "https://localhost:8080/"
        },
        "id": "WKMaflmQS2Iq",
        "outputId": "fd271979-6325-4087-e677-44293f66e4d9"
      },
      "execution_count": null,
      "outputs": [
        {
          "output_type": "execute_result",
          "data": {
            "text/plain": [
              "array([[40],\n",
              "       [80]])"
            ]
          },
          "metadata": {},
          "execution_count": 38
        }
      ]
    },
    {
      "cell_type": "code",
      "source": [
        "# Broadcasting\n",
        "a = np.array([4,4,4,4])\n",
        "b = 4\n",
        "print(a + b)"
      ],
      "metadata": {
        "colab": {
          "base_uri": "https://localhost:8080/"
        },
        "id": "CkaQLZ6_Tyi9",
        "outputId": "e850e320-9a15-4986-da38-3b93b150a2f4"
      },
      "execution_count": null,
      "outputs": [
        {
          "output_type": "stream",
          "name": "stdout",
          "text": [
            "[8 8 8 8]\n"
          ]
        }
      ]
    },
    {
      "cell_type": "code",
      "source": [
        "c = np.array([[2,3],[4,5]])\n",
        "d = np.array([[6,7],[8,9]])\n",
        "print(c + d)"
      ],
      "metadata": {
        "colab": {
          "base_uri": "https://localhost:8080/"
        },
        "id": "ZvL2d-ntUVJd",
        "outputId": "3c5ec423-9e78-44be-9523-f610188870c9"
      },
      "execution_count": null,
      "outputs": [
        {
          "output_type": "stream",
          "name": "stdout",
          "text": [
            "[[ 8 10]\n",
            " [12 14]]\n"
          ]
        }
      ]
    },
    {
      "cell_type": "code",
      "source": [
        "# use case taking one data and performing some operations\n",
        "data = sales_data[2]\n",
        "print(data)\n",
        "discount = data * 0.9\n",
        "print(discount)"
      ],
      "metadata": {
        "colab": {
          "base_uri": "https://localhost:8080/"
        },
        "id": "o3s-YVrQU0eQ",
        "outputId": "6eb22c09-e565-4137-b232-54da6f54f1df"
      },
      "execution_count": null,
      "outputs": [
        {
          "output_type": "stream",
          "name": "stdout",
          "text": [
            "[12 98 20 45]\n",
            "[10.8 88.2 18.  40.5]\n"
          ]
        }
      ]
    },
    {
      "cell_type": "code",
      "source": [
        "# adding each data in an array\n",
        "add_data = np.array([100,100,100,100])\n",
        "final = sales_data + add_data\n",
        "print(final)"
      ],
      "metadata": {
        "colab": {
          "base_uri": "https://localhost:8080/"
        },
        "id": "ETzF-BoiVUYs",
        "outputId": "8dce81c1-810c-482f-d574-648bd339266e"
      },
      "execution_count": null,
      "outputs": [
        {
          "output_type": "stream",
          "name": "stdout",
          "text": [
            "[[112 134 165 187]\n",
            " [145 176 111 178]\n",
            " [112 198 120 145]\n",
            " [133 161 133 112]\n",
            " [156 163 198 112]\n",
            " [110 120 130 140]\n",
            " [150 160 170 180]]\n"
          ]
        }
      ]
    },
    {
      "cell_type": "code",
      "source": [],
      "metadata": {
        "id": "K2Pycfsjnefi"
      },
      "execution_count": null,
      "outputs": []
    }
  ]
}