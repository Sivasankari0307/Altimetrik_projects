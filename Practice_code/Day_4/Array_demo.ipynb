{
  "nbformat": 4,
  "nbformat_minor": 0,
  "metadata": {
    "colab": {
      "provenance": []
    },
    "kernelspec": {
      "name": "python3",
      "display_name": "Python 3"
    },
    "language_info": {
      "name": "python"
    }
  },
  "cells": [
    {
      "cell_type": "code",
      "execution_count": null,
      "metadata": {
        "id": "vAgV1PgTWeoQ"
      },
      "outputs": [],
      "source": [
        "import numpy as np\n",
        "from numpy import *"
      ]
    },
    {
      "cell_type": "code",
      "source": [
        "# creating only zeros as random element\n",
        "a = zeros([2,3], int)\n",
        "a"
      ],
      "metadata": {
        "colab": {
          "base_uri": "https://localhost:8080/"
        },
        "id": "ETDbWuiyWiSd",
        "outputId": "ae649977-5bbb-4f34-863a-64b8ea8da2c2"
      },
      "execution_count": null,
      "outputs": [
        {
          "output_type": "execute_result",
          "data": {
            "text/plain": [
              "array([[0, 0, 0],\n",
              "       [0, 0, 0]])"
            ]
          },
          "metadata": {},
          "execution_count": 12
        }
      ]
    },
    {
      "cell_type": "code",
      "source": [
        "# arange\n",
        "q = arange(100,50,-5)\n",
        "print(q)"
      ],
      "metadata": {
        "colab": {
          "base_uri": "https://localhost:8080/"
        },
        "id": "GfVxl9IfY2TP",
        "outputId": "1722ec63-9224-4717-85d5-aed315114642"
      },
      "execution_count": null,
      "outputs": [
        {
          "output_type": "stream",
          "name": "stdout",
          "text": [
            "[100  95  90  85  80  75  70  65  60  55]\n"
          ]
        }
      ]
    },
    {
      "cell_type": "code",
      "source": [
        "# creating ones as random\n",
        "b = ones([3,3], int)\n",
        "b"
      ],
      "metadata": {
        "colab": {
          "base_uri": "https://localhost:8080/"
        },
        "id": "XmfhrHF7W2Xr",
        "outputId": "962f3780-0e97-4728-b326-739b3066c534"
      },
      "execution_count": null,
      "outputs": [
        {
          "output_type": "execute_result",
          "data": {
            "text/plain": [
              "array([[1, 1, 1],\n",
              "       [1, 1, 1],\n",
              "       [1, 1, 1]])"
            ]
          },
          "metadata": {},
          "execution_count": 11
        }
      ]
    },
    {
      "cell_type": "code",
      "source": [
        "# Mathematical operation\n",
        "x = array([23,45,67,23,56,86])\n",
        "print(sqrt(x))\n",
        "print(max(x))\n",
        "print(sort(x))\n",
        "print(mean(a))"
      ],
      "metadata": {
        "colab": {
          "base_uri": "https://localhost:8080/"
        },
        "id": "C_Kf6CRxX4Q9",
        "outputId": "1b606a2b-525f-46aa-8bbb-0a440f5b50a1"
      },
      "execution_count": null,
      "outputs": [
        {
          "output_type": "stream",
          "name": "stdout",
          "text": [
            "[4.79583152 6.70820393 8.18535277 4.79583152 7.48331477 9.2736185 ]\n",
            "86\n",
            "[23 23 45 56 67 86]\n",
            "0.0\n"
          ]
        }
      ]
    },
    {
      "cell_type": "code",
      "source": [
        "# logspace (but in log table it takes)\n",
        "s = logspace(1,4,5)\n",
        "print(s)"
      ],
      "metadata": {
        "colab": {
          "base_uri": "https://localhost:8080/"
        },
        "id": "OPNSgxyXYdF5",
        "outputId": "4b5955e4-016b-4903-ea93-b2102fd74cd0"
      },
      "execution_count": null,
      "outputs": [
        {
          "output_type": "stream",
          "name": "stdout",
          "text": [
            "[   10.            56.23413252   316.22776602  1778.27941004\n",
            " 10000.        ]\n"
          ]
        }
      ]
    },
    {
      "cell_type": "code",
      "source": [
        "# linespace\n",
        "p = linspace(20,30)   # max 50 number generate randomely\n",
        "print(p)\n",
        "p1 = linspace(20,30,15)\n",
        "print(p1)\n"
      ],
      "metadata": {
        "colab": {
          "base_uri": "https://localhost:8080/"
        },
        "id": "8jDs_MQLZfRx",
        "outputId": "c816df39-16ef-402f-fc19-acf237ad4599"
      },
      "execution_count": null,
      "outputs": [
        {
          "output_type": "stream",
          "name": "stdout",
          "text": [
            "[20.         20.20408163 20.40816327 20.6122449  20.81632653 21.02040816\n",
            " 21.2244898  21.42857143 21.63265306 21.83673469 22.04081633 22.24489796\n",
            " 22.44897959 22.65306122 22.85714286 23.06122449 23.26530612 23.46938776\n",
            " 23.67346939 23.87755102 24.08163265 24.28571429 24.48979592 24.69387755\n",
            " 24.89795918 25.10204082 25.30612245 25.51020408 25.71428571 25.91836735\n",
            " 26.12244898 26.32653061 26.53061224 26.73469388 26.93877551 27.14285714\n",
            " 27.34693878 27.55102041 27.75510204 27.95918367 28.16326531 28.36734694\n",
            " 28.57142857 28.7755102  28.97959184 29.18367347 29.3877551  29.59183673\n",
            " 29.79591837 30.        ]\n",
            "[20.         20.71428571 21.42857143 22.14285714 22.85714286 23.57142857\n",
            " 24.28571429 25.         25.71428571 26.42857143 27.14285714 27.85714286\n",
            " 28.57142857 29.28571429 30.        ]\n"
          ]
        }
      ]
    },
    {
      "cell_type": "code",
      "source": [
        "# reshape\n",
        "c = array([[2,3,5],[4,6,7]])\n",
        "d = c.reshape(3,2)\n",
        "d"
      ],
      "metadata": {
        "colab": {
          "base_uri": "https://localhost:8080/"
        },
        "id": "9ssA_Z6Vadbu",
        "outputId": "3763b4e3-35ce-4401-c694-2006a344647c"
      },
      "execution_count": null,
      "outputs": [
        {
          "output_type": "execute_result",
          "data": {
            "text/plain": [
              "array([[2, 3],\n",
              "       [5, 4],\n",
              "       [6, 7]])"
            ]
          },
          "metadata": {},
          "execution_count": 34
        }
      ]
    },
    {
      "cell_type": "code",
      "source": [
        "c = arange(-5,5,3)\n",
        "d = c.reshape(2,2)\n",
        "d\n",
        "print(\"Elements:\",d)\n",
        "print(\"Average of elements:\",average(d))\n",
        "print(\"Count of elements:\",size(d))\n",
        "print(\"Below elements which are below zer0:\", d[d<0])\n"
      ],
      "metadata": {
        "colab": {
          "base_uri": "https://localhost:8080/"
        },
        "id": "KOPjCEqAcE2c",
        "outputId": "22fa67c1-a60a-4964-ca2c-94ba8ae524e4"
      },
      "execution_count": null,
      "outputs": [
        {
          "output_type": "stream",
          "name": "stdout",
          "text": [
            "Elements: [[-5 -2]\n",
            " [ 1  4]]\n",
            "Average of elements: -0.5\n",
            "Count of elements: 4\n",
            "Below elements which are below zer0: [-5 -2]\n"
          ]
        }
      ]
    },
    {
      "cell_type": "code",
      "source": [],
      "metadata": {
        "id": "1bmllh_gf1px"
      },
      "execution_count": null,
      "outputs": []
    }
  ]
}